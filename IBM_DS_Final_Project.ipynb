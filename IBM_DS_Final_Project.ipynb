{
 "cells": [
  {
   "cell_type": "markdown",
   "id": "77f8c37c",
   "metadata": {},
   "source": [
    "# IBM Data Science Final Project\n",
    "### Course: IBM Data Science Professional Certificate"
   ]
  },
  {
   "cell_type": "markdown",
   "id": "3fc8114c",
   "metadata": {},
   "source": [
    "## Introduction\n",
    "Welcome to my final project notebook for the IBM Data Science course on Coursera. In this project, I will demonstrate basic Markdown usage and simple Python exercises."
   ]
  },
  {
   "cell_type": "markdown",
   "id": "659de636",
   "metadata": {},
   "source": [
    "## Data Science Languages\n",
    "- Python\n",
    "- R\n",
    "- SQL\n",
    "- Julia"
   ]
  },
  {
   "cell_type": "markdown",
   "id": "ec9367fc",
   "metadata": {},
   "source": [
    "## Data Science Libraries\n",
    "- NumPy\n",
    "- pandas\n",
    "- Matplotlib\n",
    "- scikit-learn"
   ]
  },
  {
   "cell_type": "markdown",
   "id": "b55538e5",
   "metadata": {},
   "source": [
    "## Data Science Tools\n",
    "| Tool       | Purpose                                |\n",
    "|------------|----------------------------------------|\n",
    "| Jupyter    | Interactive notebooks                  |\n",
    "| GitHub     | Version control and collaboration      |\n",
    "| Watson     | Cloud-based data science environment   |\n",
    "| VS Code    | Code editor                            |"
   ]
  },
  {
   "cell_type": "markdown",
   "id": "b947e837",
   "metadata": {},
   "source": [
    "## Arithmetic Expressions\n",
    "Let's perform some basic arithmetic operations using Python."
   ]
  },
  {
   "cell_type": "code",
   "execution_count": 1,
   "id": "b3380920",
   "metadata": {},
   "outputs": [
    {
     "name": "stdout",
     "output_type": "stream",
     "text": [
      "The result of (5 * 3) + 10 is: 25\n"
     ]
    }
   ],
   "source": [
    "# Exercise: Multiply and add numbers\n",
    "result = (5 * 3) + 10\n",
    "print('The result of (5 * 3) + 10 is:', result)"
   ]
  },
  {
   "cell_type": "code",
   "execution_count": 2,
   "id": "cd6d9fc2",
   "metadata": {},
   "outputs": [
    {
     "name": "stdout",
     "output_type": "stream",
     "text": [
      "150 minutes is equal to 2.50 hours.\n"
     ]
    }
   ],
   "source": [
    "# Exercise: Convert minutes to hours\n",
    "minutes = 150\n",
    "hours = minutes / 60\n",
    "print(f\"{minutes} minutes is equal to {hours:.2f} hours.\")"
   ]
  },
  {
   "cell_type": "markdown",
   "id": "8317f8ed",
   "metadata": {},
   "source": [
    "## Objectives\n",
    "- Demonstrate Markdown formatting\n",
    "- Perform simple Python computations\n",
    "- Structure a Jupyter notebook effectively"
   ]
  },
  {
   "cell_type": "markdown",
   "id": "e455a47b",
   "metadata": {},
   "source": [
    "## Author\n",
    "**Elmaddin**"
   ]
  }
 ],
 "metadata": {
  "kernelspec": {
   "display_name": "Python 3 (ipykernel)",
   "language": "python",
   "name": "python3"
  },
  "language_info": {
   "codemirror_mode": {
    "name": "ipython",
    "version": 3
   },
   "file_extension": ".py",
   "mimetype": "text/x-python",
   "name": "python",
   "nbconvert_exporter": "python",
   "pygments_lexer": "ipython3",
   "version": "3.12.7"
  }
 },
 "nbformat": 4,
 "nbformat_minor": 5
}
